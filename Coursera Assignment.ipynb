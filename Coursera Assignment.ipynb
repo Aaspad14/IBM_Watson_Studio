{
 "cells": [
  {
   "cell_type": "markdown",
   "id": "b146ddfe",
   "metadata": {},
   "source": [
    "# My Jupyter Notebook on IBM Watson Studio"
   ]
  },
  {
   "cell_type": "markdown",
   "id": "a8e0b839",
   "metadata": {},
   "source": [
    "### Aaspad Kar\n",
    "Data Scientist"
   ]
  },
  {
   "cell_type": "markdown",
   "id": "0a691040",
   "metadata": {},
   "source": [
    "<em>I am interested in data science because I love to gain insights from data.</em>"
   ]
  },
  {
   "cell_type": "markdown",
   "id": "9195ecfd",
   "metadata": {},
   "source": [
    "### The following code prints sum of 2 numbers"
   ]
  },
  {
   "cell_type": "code",
   "execution_count": 7,
   "id": "25679f73",
   "metadata": {},
   "outputs": [
    {
     "name": "stdout",
     "output_type": "stream",
     "text": [
      "3\n"
     ]
    }
   ],
   "source": [
    "def print_sum(a,b):\n",
    "    print(a+b)\n",
    "\n",
    "print_sum(2,1)"
   ]
  },
  {
   "cell_type": "markdown",
   "id": "6215ad6a",
   "metadata": {},
   "source": [
    "<hr/>\n",
    "\n",
    "* one\n",
    "- two\n",
    "\n",
    "<a>https://github.com/Aaspad14/IBM_Watson_Studio<a/>\n",
    "\n",
    "![The San Juan Mountains are beautiful!](pic.jfif \"San Juan Mountains\")"
   ]
  },
  {
   "cell_type": "code",
   "execution_count": null,
   "id": "b34eeecc",
   "metadata": {},
   "outputs": [],
   "source": []
  }
 ],
 "metadata": {
  "kernelspec": {
   "display_name": "Python 3",
   "language": "python",
   "name": "python3"
  },
  "language_info": {
   "codemirror_mode": {
    "name": "ipython",
    "version": 3
   },
   "file_extension": ".py",
   "mimetype": "text/x-python",
   "name": "python",
   "nbconvert_exporter": "python",
   "pygments_lexer": "ipython3",
   "version": "3.8.8"
  }
 },
 "nbformat": 4,
 "nbformat_minor": 5
}
